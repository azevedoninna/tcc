{
 "cells": [
  {
   "cell_type": "markdown",
   "metadata": {},
   "source": [
    "## Biblioteca"
   ]
  },
  {
   "cell_type": "code",
   "execution_count": 1,
   "metadata": {},
   "outputs": [],
   "source": [
    "import numpy as np\n",
    "import pandas as pd\n",
    "import seaborn as sns\n",
    "import sklearn\n",
    "\n",
    "import warnings\n",
    "warnings.filterwarnings(\"ignore\")"
   ]
  },
  {
   "cell_type": "markdown",
   "metadata": {},
   "source": [
    "## Função"
   ]
  },
  {
   "cell_type": "code",
   "execution_count": 2,
   "metadata": {},
   "outputs": [],
   "source": [
    "def cross_validation_func(db, model, k=10):\n",
    "\n",
    "    i = 1\n",
    "    df = pd.DataFrame()\n",
    "    data = db.assign(seed=lambda x: np.random.randint(1, k+1, x.shape[0]))\n",
    "\n",
    "    while i <= k:  \n",
    "        X_train = data.pipe(lambda x: x[x.seed != i]).drop([\"id\", \"target\", \"seed\"], 1)\n",
    "        y_train = data.pipe(lambda x: x[x.seed != i]).loc[:, [\"target\"]]\n",
    "\n",
    "        X_test = data.pipe(lambda x: x[x.seed == i]).drop([\"id\", \"target\", \"seed\"], 1)\n",
    "        y_test = data.pipe(lambda x: x[x.seed == i]).loc[:, [\"target\"]]\n",
    "\n",
    "        result = model.fit(X_train, y_train)\n",
    "\n",
    "        from sklearn.metrics import accuracy_score\n",
    "        from sklearn.metrics import roc_auc_score\n",
    "        acc = accuracy_score(y_test, result.predict(X_test))\n",
    "        auc = roc_auc_score(y_test, result.predict_proba(X_test)[:, 1])\n",
    "        \n",
    "        df_data = pd.DataFrame(columns=['seed', 'accuracy_score', 'auc'], \n",
    "                           data=[[i, acc, auc]])\n",
    "        df = pd.concat([df, df_data])\n",
    "\n",
    "        i+=1\n",
    "    return df"
   ]
  },
  {
   "cell_type": "markdown",
   "metadata": {},
   "source": [
    "## Data"
   ]
  },
  {
   "cell_type": "code",
   "execution_count": 3,
   "metadata": {},
   "outputs": [],
   "source": [
    "dados_treino = pd.read_csv(\"porto_seguro_limpo_treino.csv\")\n",
    "dados_teste = pd.read_csv(\"porto_seguro_limpo_teste.csv\")"
   ]
  },
  {
   "cell_type": "code",
   "execution_count": 4,
   "metadata": {},
   "outputs": [],
   "source": [
    "data = pd.concat([dados_teste, dados_treino])"
   ]
  },
  {
   "cell_type": "markdown",
   "metadata": {},
   "source": [
    "## Logistic Regression"
   ]
  },
  {
   "cell_type": "code",
   "execution_count": 5,
   "metadata": {},
   "outputs": [
    {
     "name": "stdout",
     "output_type": "stream",
     "text": [
      "accuracy_score: 0.9636 (+/- 0.0014)\n",
      "auc: 0.6290 (+/- 0.0135)\n"
     ]
    }
   ],
   "source": [
    "data_stepwise = pd.concat([pd.read_csv(\"porto_seguro_stepwise_reagrupado_treino.csv\"), \n",
    "                           pd.read_csv(\"porto_seguro_stepwise_reagrupado_teste.csv\")]).drop([\"ps_car_05_cat_0_1\"], 1)\n",
    "\n",
    "from sklearn.linear_model import LogisticRegression\n",
    "model = LogisticRegression(C=1e9)\n",
    "k = 10\n",
    "\n",
    "cv_reglog = cross_validation_func(data_stepwise, model, k)\n",
    "print(\"accuracy_score: %0.4f (+/- %0.4f)\" % (cv_reglog.accuracy_score.mean(), cv_reglog.accuracy_score.std() * 2))\n",
    "print(\"auc: %0.4f (+/- %0.4f)\" % (cv_reglog.auc.mean(), cv_reglog.auc.std() * 2))"
   ]
  },
  {
   "cell_type": "markdown",
   "metadata": {},
   "source": [
    "## Decision Tree Classifier"
   ]
  },
  {
   "cell_type": "code",
   "execution_count": 6,
   "metadata": {},
   "outputs": [
    {
     "name": "stdout",
     "output_type": "stream",
     "text": [
      "accuracy_score: 0.9635 (+/- 0.0018)\n",
      "auc: 0.6027 (+/- 0.0081)\n"
     ]
    }
   ],
   "source": [
    "from sklearn.tree import DecisionTreeClassifier\n",
    "model = DecisionTreeClassifier(max_depth=5, min_samples_split=7)\n",
    "k = 10\n",
    "\n",
    "cv_tree = cross_validation_func(data, model, k)\n",
    "print(\"accuracy_score: %0.4f (+/- %0.4f)\" % (cv_tree.accuracy_score.mean(), cv_tree.accuracy_score.std() * 2))\n",
    "print(\"auc: %0.4f (+/- %0.4f)\" % (cv_tree.auc.mean(), cv_tree.auc.std() * 2))"
   ]
  },
  {
   "cell_type": "markdown",
   "metadata": {},
   "source": [
    "## Random Forest Classifier"
   ]
  },
  {
   "cell_type": "code",
   "execution_count": 7,
   "metadata": {},
   "outputs": [
    {
     "name": "stdout",
     "output_type": "stream",
     "text": [
      "accuracy_score: 0.9636 (+/- 0.0013)\n",
      "auc: 0.6218 (+/- 0.0153)\n"
     ]
    }
   ],
   "source": [
    "from sklearn.ensemble import RandomForestClassifier\n",
    "model = RandomForestClassifier(n_estimators=100, max_depth=3, max_features=5)\n",
    "k = 10\n",
    "\n",
    "cv_rf = cross_validation_func(data, model, k)\n",
    "print(\"accuracy_score: %0.4f (+/- %0.4f)\" % (cv_rf.accuracy_score.mean(), cv_rf.accuracy_score.std() * 2))\n",
    "print(\"auc: %0.4f (+/- %0.4f)\" % (cv_rf.auc.mean(), cv_rf.auc.std() * 2))"
   ]
  },
  {
   "cell_type": "markdown",
   "metadata": {},
   "source": [
    "## XGBoost Classifier"
   ]
  },
  {
   "cell_type": "code",
   "execution_count": 8,
   "metadata": {},
   "outputs": [
    {
     "name": "stdout",
     "output_type": "stream",
     "text": [
      "accuracy_score: 0.9636 (+/- 0.0018)\n",
      "auc: 0.6375 (+/- 0.0130)\n"
     ]
    }
   ],
   "source": [
    "from xgboost import XGBClassifier\n",
    "model = XGBClassifier(n_estimators=100, max_depth=3, max_features=5)\n",
    "k = 10\n",
    "\n",
    "cv_xgb = cross_validation_func(data, model, k)\n",
    "print(\"accuracy_score: %0.4f (+/- %0.4f)\" % (cv_xgb.accuracy_score.mean(), cv_xgb.accuracy_score.std() * 2))\n",
    "print(\"auc: %0.4f (+/- %0.4f)\" % (cv_xgb.auc.mean(), cv_xgb.auc.std() * 2))"
   ]
  },
  {
   "cell_type": "code",
   "execution_count": null,
   "metadata": {},
   "outputs": [],
   "source": []
  },
  {
   "cell_type": "code",
   "execution_count": null,
   "metadata": {},
   "outputs": [],
   "source": []
  },
  {
   "cell_type": "code",
   "execution_count": null,
   "metadata": {},
   "outputs": [],
   "source": []
  },
  {
   "cell_type": "code",
   "execution_count": null,
   "metadata": {},
   "outputs": [],
   "source": []
  }
 ],
 "metadata": {
  "kernelspec": {
   "display_name": "Python [conda root]",
   "language": "python",
   "name": "conda-root-py"
  },
  "language_info": {
   "codemirror_mode": {
    "name": "ipython",
    "version": 3
   },
   "file_extension": ".py",
   "mimetype": "text/x-python",
   "name": "python",
   "nbconvert_exporter": "python",
   "pygments_lexer": "ipython3",
   "version": "3.6.8"
  }
 },
 "nbformat": 4,
 "nbformat_minor": 2
}
