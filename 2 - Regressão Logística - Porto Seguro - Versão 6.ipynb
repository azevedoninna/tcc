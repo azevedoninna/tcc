{
 "cells": [
  {
   "cell_type": "markdown",
   "metadata": {},
   "source": [
    "# Biblioteca"
   ]
  },
  {
   "cell_type": "code",
   "execution_count": 1,
   "metadata": {},
   "outputs": [],
   "source": [
    "import pandas as pd\n",
    "import sklearn\n",
    "import numpy as np\n",
    "import statsmodels \n",
    "import matplotlib.pyplot as plt\n",
    "import seaborn as sns\n",
    "%matplotlib inline\n",
    "\n",
    "import warnings\n",
    "warnings.filterwarnings(\"ignore\")"
   ]
  },
  {
   "cell_type": "code",
   "execution_count": 2,
   "metadata": {},
   "outputs": [],
   "source": [
    "sns.set(rc={'figure.figsize':(12,7)})\n",
    "sns.set_style(\"whitegrid\")\n",
    "sns.set_palette(\"husl\")\n",
    "\n",
    "pd.set_option('display.max_rows', 200)"
   ]
  },
  {
   "cell_type": "markdown",
   "metadata": {},
   "source": [
    "# Dados"
   ]
  },
  {
   "cell_type": "code",
   "execution_count": 3,
   "metadata": {
    "scrolled": false
   },
   "outputs": [
    {
     "data": {
      "text/html": [
       "<div>\n",
       "<style scoped>\n",
       "    .dataframe tbody tr th:only-of-type {\n",
       "        vertical-align: middle;\n",
       "    }\n",
       "\n",
       "    .dataframe tbody tr th {\n",
       "        vertical-align: top;\n",
       "    }\n",
       "\n",
       "    .dataframe thead th {\n",
       "        text-align: right;\n",
       "    }\n",
       "</style>\n",
       "<table border=\"1\" class=\"dataframe\">\n",
       "  <thead>\n",
       "    <tr style=\"text-align: right;\">\n",
       "      <th></th>\n",
       "      <th>count</th>\n",
       "      <th>mean</th>\n",
       "      <th>std</th>\n",
       "      <th>min</th>\n",
       "      <th>25%</th>\n",
       "      <th>50%</th>\n",
       "      <th>75%</th>\n",
       "      <th>max</th>\n",
       "    </tr>\n",
       "  </thead>\n",
       "  <tbody>\n",
       "    <tr>\n",
       "      <th>target</th>\n",
       "      <td>595212.0</td>\n",
       "      <td>0.036448</td>\n",
       "      <td>0.187401</td>\n",
       "      <td>0.0</td>\n",
       "      <td>0.0</td>\n",
       "      <td>0.0</td>\n",
       "      <td>0.0</td>\n",
       "      <td>1.0</td>\n",
       "    </tr>\n",
       "  </tbody>\n",
       "</table>\n",
       "</div>"
      ],
      "text/plain": [
       "           count      mean       std  min  25%  50%  75%  max\n",
       "target  595212.0  0.036448  0.187401  0.0  0.0  0.0  0.0  1.0"
      ]
     },
     "execution_count": 3,
     "metadata": {},
     "output_type": "execute_result"
    }
   ],
   "source": [
    "dados = pd.read_csv(\"porto_seguro_limpo.csv\")\n",
    "dados.drop([\"id\"], 1).describe().T.head(1)"
   ]
  },
  {
   "cell_type": "code",
   "execution_count": 4,
   "metadata": {},
   "outputs": [],
   "source": [
    "dados_treino = pd.read_csv(\"porto_seguro_limpo_treino.csv\")\n",
    "dados_teste = pd.read_csv(\"porto_seguro_limpo_teste.csv\")"
   ]
  },
  {
   "cell_type": "code",
   "execution_count": 5,
   "metadata": {},
   "outputs": [],
   "source": [
    "X = dados_treino.drop([\"id\", \"target\"], 1)\n",
    "y = dados_treino.loc[:, [\"target\"]]\n",
    "\n",
    "X_teste = dados_teste.drop([\"id\", \"target\"], 1)\n",
    "y_teste = dados_teste.loc[:, [\"target\"]]"
   ]
  },
  {
   "cell_type": "markdown",
   "metadata": {},
   "source": [
    "# Previsão"
   ]
  },
  {
   "cell_type": "code",
   "execution_count": 6,
   "metadata": {},
   "outputs": [
    {
     "name": "stdout",
     "output_type": "stream",
     "text": [
      "Optimization terminated successfully.\n",
      "         Current function value: 0.153064\n",
      "         Iterations 8\n"
     ]
    }
   ],
   "source": [
    "import statsmodels.formula.api as sm\n",
    "\n",
    "model = sm.Logit(y, X)\n",
    "result = model.fit()\n",
    "predictions = result.predict(X_teste)"
   ]
  },
  {
   "cell_type": "markdown",
   "metadata": {},
   "source": [
    "# Resultados"
   ]
  },
  {
   "cell_type": "code",
   "execution_count": 7,
   "metadata": {},
   "outputs": [
    {
     "name": "stdout",
     "output_type": "stream",
     "text": [
      "                           Logit Regression Results                           \n",
      "==============================================================================\n",
      "Dep. Variable:                 target   No. Observations:               416648\n",
      "Model:                          Logit   Df Residuals:                   416578\n",
      "Method:                           MLE   Df Model:                           69\n",
      "Date:                Mon, 06 May 2019   Pseudo R-squ.:                 0.02627\n",
      "Time:                        10:01:49   Log-Likelihood:                -63774.\n",
      "converged:                       True   LL-Null:                       -65494.\n",
      "                                        LLR p-value:                     0.000\n",
      "===================================================================================================\n",
      "                                      coef    std err          z      P>|z|      [0.025      0.975]\n",
      "---------------------------------------------------------------------------------------------------\n",
      "ps_ind_01                           0.0096      0.005      2.054      0.040       0.000       0.019\n",
      "ps_ind_03                           0.0255      0.003      7.379      0.000       0.019       0.032\n",
      "ps_ind_06_bin                      -1.4703      0.508     -2.892      0.004      -2.467      -0.474\n",
      "ps_ind_07_bin                      -1.2046      0.510     -2.364      0.018      -2.203      -0.206\n",
      "ps_ind_08_bin                      -1.2338      0.509     -2.423      0.015      -2.232      -0.236\n",
      "ps_ind_09_bin                      -1.4293      0.509     -2.805      0.005      -2.428      -0.431\n",
      "ps_ind_12_bin                       0.1270      0.156      0.815      0.415      -0.178       0.432\n",
      "ps_ind_14                          -0.0526      0.119     -0.443      0.658      -0.286       0.180\n",
      "ps_ind_15                          -0.0264      0.003     -9.696      0.000      -0.032      -0.021\n",
      "ps_ind_16_bin                      -0.0891      0.035     -2.528      0.011      -0.158      -0.020\n",
      "ps_ind_17_bin                       0.2926      0.040      7.405      0.000       0.215       0.370\n",
      "ps_ind_18_bin                      -0.0307      0.041     -0.742      0.458      -0.112       0.050\n",
      "ps_reg_01                           0.2589      0.037      7.012      0.000       0.187       0.331\n",
      "ps_reg_02                           0.0801      0.032      2.505      0.012       0.017       0.143\n",
      "ps_car_08_cat                       0.0166      0.026      0.638      0.524      -0.034       0.067\n",
      "ps_car_11                          -0.0389      0.012     -3.229      0.001      -0.062      -0.015\n",
      "ps_car_15                           0.0576      0.021      2.731      0.006       0.016       0.099\n",
      "ps_calc_01                          0.0452      0.029      1.568      0.117      -0.011       0.102\n",
      "ps_calc_02                          0.0495      0.029      1.713      0.087      -0.007       0.106\n",
      "ps_calc_03                          0.0447      0.029      1.547      0.122      -0.012       0.101\n",
      "ps_calc_04                          0.0005      0.007      0.065      0.948      -0.014       0.015\n",
      "ps_calc_05                          0.0077      0.007      1.055      0.292      -0.007       0.022\n",
      "ps_calc_06                          0.0043      0.006      0.693      0.488      -0.008       0.017\n",
      "ps_calc_07                         -0.0008      0.006     -0.142      0.887      -0.012       0.011\n",
      "ps_calc_08                         -0.0032      0.006     -0.563      0.574      -0.014       0.008\n",
      "ps_calc_09                          0.0053      0.007      0.797      0.426      -0.008       0.018\n",
      "ps_calc_10                          0.0016      0.003      0.553      0.581      -0.004       0.007\n",
      "ps_calc_11                         -0.0003      0.004     -0.080      0.936      -0.007       0.007\n",
      "ps_calc_12                         -0.0015      0.007     -0.216      0.829      -0.015       0.012\n",
      "ps_calc_13                         -0.0019      0.005     -0.394      0.694      -0.012       0.008\n",
      "ps_calc_14                          0.0030      0.003      0.991      0.322      -0.003       0.009\n",
      "ps_calc_15_bin                     -0.0062      0.025     -0.244      0.807      -0.056       0.043\n",
      "ps_calc_16_bin                      0.0036      0.017      0.211      0.833      -0.030       0.037\n",
      "ps_calc_17_bin                     -0.0125      0.017     -0.753      0.452      -0.045       0.020\n",
      "ps_calc_18_bin                     -0.0003      0.018     -0.016      0.987      -0.036       0.036\n",
      "ps_calc_19_bin                     -0.0132      0.017     -0.757      0.449      -0.047       0.021\n",
      "ps_calc_20_bin                     -0.0117      0.023     -0.506      0.613      -0.057       0.034\n",
      "ps_car_07_cat_null                 -0.2469      0.076     -3.230      0.001      -0.397      -0.097\n",
      "ps_car_07_cat_1                    -0.2599      0.034     -7.585      0.000      -0.327      -0.193\n",
      "ps_car_05_cat_null                  0.0121      0.029      0.420      0.674      -0.044       0.068\n",
      "ps_car_05_cat_1                     0.0258      0.022      1.160      0.246      -0.018       0.069\n",
      "ps_car_03_cat_null                 -0.0378      0.041     -0.932      0.352      -0.117       0.042\n",
      "ps_car_03_cat_1                     0.0796      0.030      2.618      0.009       0.020       0.139\n",
      "ps_car_02_cat_1                     0.0031      0.027      0.114      0.909      -0.050       0.056\n",
      "ps_ind_04_cat_1                     0.0548      0.019      2.887      0.004       0.018       0.092\n",
      "ps_ind_02_cat_null                  0.5246      0.374      1.403      0.161      -0.208       1.258\n",
      "ps_ind_02_cat_2_3_4                 0.1019      0.020      5.141      0.000       0.063       0.141\n",
      "ps_ind_05_cat_0                    -0.8631      0.090     -9.621      0.000      -1.039      -0.687\n",
      "ps_ind_05_cat_1_3_4_5_6            -0.4165      0.092     -4.521      0.000      -0.597      -0.236\n",
      "ps_ind_05_cat_2                    -0.0498      0.114     -0.437      0.662      -0.273       0.173\n",
      "ps_car_01_cat_6_7                  -1.4657      0.436     -3.362      0.001      -2.320      -0.611\n",
      "ps_car_01_cat_3_4_5_10             -1.3212      0.436     -3.030      0.002      -2.176      -0.467\n",
      "ps_car_01_cat_0_1_2_8_11           -1.3071      0.436     -2.998      0.003      -2.161      -0.453\n",
      "ps_car_01_cat_9                    -1.1735      0.437     -2.684      0.007      -2.031      -0.316\n",
      "ps_car_04_cat_0_4                  -0.1200      0.180     -0.665      0.506      -0.474       0.234\n",
      "ps_car_04_cat_1_2                  -0.1772      0.179     -0.992      0.321      -0.527       0.173\n",
      "ps_car_04_cat_3_8                  -0.2100      0.182     -1.155      0.248      -0.567       0.146\n",
      "ps_car_04_cat_6_9                  -0.1487      0.180     -0.825      0.410      -0.502       0.205\n",
      "ps_car_06_cat_0_1_3_4_6_7_11_14    -0.0382      0.043     -0.891      0.373      -0.122       0.046\n",
      "ps_car_06_cat_10_12_15_16          -0.0265      0.046     -0.577      0.564      -0.117       0.064\n",
      "ps_car_06_cat_2_5_8_17              0.0297      0.070      0.424      0.672      -0.108       0.167\n",
      "ps_car_09_cat_0_2_3                -0.1646      0.218     -0.756      0.450      -0.591       0.262\n",
      "ps_car_09_cat_1_4                   0.0509      0.219      0.232      0.816      -0.379       0.481\n",
      "ps_car_11_cat_A                    -0.1362      0.025     -5.554      0.000      -0.184      -0.088\n",
      "ps_car_11_cat_B                     0.0313      0.026      1.199      0.230      -0.020       0.083\n",
      "ps_car_11_cat_C                     0.2238      0.036      6.294      0.000       0.154       0.294\n",
      "ps_reg_03_no_out                    0.0881      0.040      2.217      0.027       0.010       0.166\n",
      "ps_car_12_no_out                    0.3772      0.302      1.248      0.212      -0.215       0.970\n",
      "ps_car_13_no_out                    0.4773      0.115      4.144      0.000       0.252       0.703\n",
      "ps_car_14_no_out                   -0.6101      0.403     -1.512      0.130      -1.401       0.181\n",
      "===================================================================================================\n"
     ]
    }
   ],
   "source": [
    "from scipy import stats\n",
    "stats.chisqprob = lambda chisq, df: stats.chi2.sf(chisq, df)\n",
    "print(result.summary())"
   ]
  },
  {
   "cell_type": "code",
   "execution_count": 8,
   "metadata": {},
   "outputs": [
    {
     "name": "stdout",
     "output_type": "stream",
     "text": [
      "AUC na base de teste: 0.6272\n",
      "AUC na base de treino: 0.6308\n"
     ]
    }
   ],
   "source": [
    "from sklearn.metrics import roc_auc_score\n",
    "\n",
    "acc = roc_auc_score(y_teste, predictions)\n",
    "print(\"AUC na base de teste: %.4f\" % acc) \n",
    "### valor anterior: 0.6197 --> é um ganho considerável, dado que o auc do vencedor da competição foi de 0,64849\n",
    "\n",
    "acc = roc_auc_score(y, result.predict(X))\n",
    "print(\"AUC na base de treino: %.4f\" % acc) "
   ]
  },
  {
   "cell_type": "markdown",
   "metadata": {},
   "source": [
    "# Stepwise p-value < 50%"
   ]
  },
  {
   "cell_type": "code",
   "execution_count": 12,
   "metadata": {},
   "outputs": [],
   "source": [
    "selected_features= ['ps_ind_01', \n",
    "                    'ps_ind_03', \n",
    "                    'ps_ind_06_bin', \n",
    "                    'ps_ind_07_bin', \n",
    "                    'ps_ind_08_bin', \n",
    "                    'ps_ind_12_bin', \n",
    "                    'ps_ind_15', \n",
    "                    'ps_ind_16_bin', \n",
    "                    'ps_ind_17_bin', \n",
    "                    'ps_ind_18_bin', \n",
    "                    'ps_reg_01', \n",
    "                    'ps_reg_02', \n",
    "                    'ps_car_08_cat', \n",
    "                    'ps_car_11', \n",
    "                    'ps_car_15', \n",
    "                    'ps_calc_01', \n",
    "                    'ps_calc_02', \n",
    "                    'ps_calc_03', \n",
    "                    'ps_calc_05', \n",
    "                    'ps_calc_06', \n",
    "                    'ps_calc_09', \n",
    "                    'ps_calc_14', \n",
    "                    'ps_calc_17_bin',\n",
    "                    'ps_calc_19_bin',\n",
    "                    'ps_car_07_cat_null', \n",
    "                    'ps_car_07_cat_1', \n",
    "                    'ps_car_05_cat_1', \n",
    "                    'ps_car_03_cat_null', \n",
    "                    'ps_car_03_cat_1', \n",
    "                    'ps_ind_04_cat_1',\n",
    "                    'ps_ind_02_cat_null', \n",
    "                    'ps_ind_02_cat_2_3_4', \n",
    "                    'ps_ind_05_cat_0', \n",
    "                    'ps_ind_05_cat_1_3_4_5_6',\n",
    "                    'ps_car_01_cat_6_7', \n",
    "                    'ps_car_01_cat_3_4_5_10',\n",
    "                    'ps_car_01_cat_0_1_2_8_11', \n",
    "                    'ps_car_01_cat_9', \n",
    "                    'ps_car_04_cat_0_4', \n",
    "                    'ps_car_04_cat_1_2',\n",
    "                    'ps_car_04_cat_3_8', \n",
    "                    'ps_car_04_cat_6_9',\n",
    "                    'ps_car_06_cat_0_1_3_4_6_7_11_14', \n",
    "                    'ps_car_06_cat_10_12_15_16', \n",
    "                    'ps_car_09_cat_0_2_3',\n",
    "                    'ps_car_11_cat_A', \n",
    "                    'ps_car_11_cat_B', \n",
    "                    'ps_car_11_cat_C', \n",
    "                    'ps_reg_03_no_out', \n",
    "                    'ps_car_12_no_out', \n",
    "                    'ps_car_13_no_out', \n",
    "                    'ps_car_14_no_out']"
   ]
  },
  {
   "cell_type": "code",
   "execution_count": 13,
   "metadata": {},
   "outputs": [],
   "source": [
    "X = dados_treino[selected_features]\n",
    "y = dados_treino.loc[:, [\"target\"]]\n",
    "\n",
    "X_teste = dados_teste[selected_features]\n",
    "y_teste = dados_teste.loc[:, [\"target\"]]"
   ]
  },
  {
   "cell_type": "markdown",
   "metadata": {},
   "source": [
    "### Previsão "
   ]
  },
  {
   "cell_type": "code",
   "execution_count": 14,
   "metadata": {},
   "outputs": [
    {
     "name": "stdout",
     "output_type": "stream",
     "text": [
      "Optimization terminated successfully.\n",
      "         Current function value: 0.153076\n",
      "         Iterations 8\n"
     ]
    }
   ],
   "source": [
    "import statsmodels.formula.api as sm\n",
    "\n",
    "model = sm.Logit(y, X)\n",
    "result = model.fit()\n",
    "predictions = result.predict(X_teste)"
   ]
  },
  {
   "cell_type": "markdown",
   "metadata": {},
   "source": [
    "### Resultados"
   ]
  },
  {
   "cell_type": "code",
   "execution_count": 15,
   "metadata": {},
   "outputs": [
    {
     "name": "stdout",
     "output_type": "stream",
     "text": [
      "                           Logit Regression Results                           \n",
      "==============================================================================\n",
      "Dep. Variable:                 target   No. Observations:               416648\n",
      "Model:                          Logit   Df Residuals:                   416596\n",
      "Method:                           MLE   Df Model:                           51\n",
      "Date:                Mon, 06 May 2019   Pseudo R-squ.:                 0.02619\n",
      "Time:                        10:09:12   Log-Likelihood:                -63779.\n",
      "converged:                       True   LL-Null:                       -65494.\n",
      "                                        LLR p-value:                     0.000\n",
      "===================================================================================================\n",
      "                                      coef    std err          z      P>|z|      [0.025      0.975]\n",
      "---------------------------------------------------------------------------------------------------\n",
      "ps_ind_01                           0.0095      0.005      2.035      0.042       0.000       0.019\n",
      "ps_ind_03                           0.0252      0.003      7.379      0.000       0.019       0.032\n",
      "ps_ind_06_bin                      -0.0458      0.027     -1.701      0.089      -0.099       0.007\n",
      "ps_ind_07_bin                       0.2220      0.028      8.024      0.000       0.168       0.276\n",
      "ps_ind_08_bin                       0.1925      0.029      6.603      0.000       0.135       0.250\n",
      "ps_ind_12_bin                       0.0629      0.073      0.868      0.386      -0.079       0.205\n",
      "ps_ind_15                          -0.0266      0.003     -9.813      0.000      -0.032      -0.021\n",
      "ps_ind_16_bin                      -0.0951      0.035     -2.719      0.007      -0.164      -0.027\n",
      "ps_ind_17_bin                       0.2855      0.039      7.272      0.000       0.209       0.362\n",
      "ps_ind_18_bin                      -0.0396      0.041     -0.960      0.337      -0.120       0.041\n",
      "ps_reg_01                           0.2544      0.037      6.907      0.000       0.182       0.327\n",
      "ps_reg_02                           0.0852      0.032      2.670      0.008       0.023       0.148\n",
      "ps_car_08_cat                       0.0137      0.026      0.534      0.594      -0.037       0.064\n",
      "ps_car_11                          -0.0376      0.012     -3.169      0.002      -0.061      -0.014\n",
      "ps_car_15                           0.0496      0.020      2.421      0.015       0.009       0.090\n",
      "ps_calc_01                          0.0429      0.029      1.488      0.137      -0.014       0.099\n",
      "ps_calc_02                          0.0473      0.029      1.637      0.102      -0.009       0.104\n",
      "ps_calc_03                          0.0424      0.029      1.468      0.142      -0.014       0.099\n",
      "ps_calc_05                          0.0070      0.007      0.968      0.333      -0.007       0.021\n",
      "ps_calc_06                          0.0026      0.006      0.420      0.674      -0.010       0.015\n",
      "ps_calc_09                          0.0047      0.007      0.704      0.482      -0.008       0.018\n",
      "ps_calc_14                          0.0026      0.003      0.867      0.386      -0.003       0.008\n",
      "ps_calc_17_bin                     -0.0133      0.017     -0.800      0.424      -0.046       0.019\n",
      "ps_calc_19_bin                     -0.0137      0.017     -0.789      0.430      -0.048       0.020\n",
      "ps_car_07_cat_null                 -0.2499      0.064     -3.923      0.000      -0.375      -0.125\n",
      "ps_car_07_cat_1                    -0.2661      0.034     -7.801      0.000      -0.333      -0.199\n",
      "ps_car_05_cat_1                     0.0208      0.020      1.025      0.305      -0.019       0.060\n",
      "ps_car_03_cat_null                 -0.0209      0.036     -0.576      0.565      -0.092       0.050\n",
      "ps_car_03_cat_1                     0.0771      0.030      2.540      0.011       0.018       0.137\n",
      "ps_ind_04_cat_1                     0.0529      0.019      2.798      0.005       0.016       0.090\n",
      "ps_ind_02_cat_null                 -0.3138      0.304     -1.031      0.303      -0.910       0.283\n",
      "ps_ind_02_cat_2_3_4                 0.1002      0.020      5.081      0.000       0.062       0.139\n",
      "ps_ind_05_cat_0                    -0.8431      0.055    -15.371      0.000      -0.951      -0.736\n",
      "ps_ind_05_cat_1_3_4_5_6            -0.3966      0.059     -6.768      0.000      -0.511      -0.282\n",
      "ps_car_01_cat_6_7                  -2.5244      0.216    -11.695      0.000      -2.947      -2.101\n",
      "ps_car_01_cat_3_4_5_10             -2.3825      0.216    -11.017      0.000      -2.806      -1.959\n",
      "ps_car_01_cat_0_1_2_8_11           -2.3638      0.216    -10.933      0.000      -2.788      -1.940\n",
      "ps_car_01_cat_9                    -2.2326      0.218    -10.250      0.000      -2.660      -1.806\n",
      "ps_car_04_cat_0_4                  -0.3004      0.160     -1.881      0.060      -0.613       0.013\n",
      "ps_car_04_cat_1_2                  -0.3507      0.158     -2.213      0.027      -0.661      -0.040\n",
      "ps_car_04_cat_3_8                  -0.3773      0.163     -2.319      0.020      -0.696      -0.058\n",
      "ps_car_04_cat_6_9                  -0.3085      0.162     -1.901      0.057      -0.626       0.009\n",
      "ps_car_06_cat_0_1_3_4_6_7_11_14    -0.0487      0.037     -1.304      0.192      -0.122       0.024\n",
      "ps_car_06_cat_10_12_15_16          -0.0367      0.041     -0.902      0.367      -0.116       0.043\n",
      "ps_car_09_cat_0_2_3                -0.2196      0.032     -6.925      0.000      -0.282      -0.157\n",
      "ps_car_11_cat_A                    -0.1418      0.024     -5.808      0.000      -0.190      -0.094\n",
      "ps_car_11_cat_B                     0.0293      0.026      1.122      0.262      -0.022       0.080\n",
      "ps_car_11_cat_C                     0.2246      0.035      6.467      0.000       0.157       0.293\n",
      "ps_reg_03_no_out                    0.0808      0.040      2.035      0.042       0.003       0.159\n",
      "ps_car_12_no_out                    0.2980      0.300      0.994      0.320      -0.290       0.886\n",
      "ps_car_13_no_out                    0.4893      0.110      4.455      0.000       0.274       0.705\n",
      "ps_car_14_no_out                   -0.8258      0.397     -2.081      0.037      -1.603      -0.048\n",
      "===================================================================================================\n"
     ]
    }
   ],
   "source": [
    "from scipy import stats\n",
    "stats.chisqprob = lambda chisq, df: stats.chi2.sf(chisq, df)\n",
    "print(result.summary())"
   ]
  },
  {
   "cell_type": "code",
   "execution_count": 16,
   "metadata": {},
   "outputs": [
    {
     "name": "stdout",
     "output_type": "stream",
     "text": [
      "AUC na base de teste: 0.6269\n",
      "AUC na base de treino: 0.6308\n"
     ]
    }
   ],
   "source": [
    "from sklearn.metrics import roc_auc_score\n",
    "\n",
    "acc = roc_auc_score(y_teste, predictions)\n",
    "print(\"AUC na base de teste: %.4f\" % acc) \n",
    "### valor anterior: 0.6197 --> é um ganho considerável, dado que o auc do vencedor da competição foi de 0,64849\n",
    "\n",
    "acc = roc_auc_score(y, result.predict(X))\n",
    "print(\"AUC na base de treino: %.4f\" % acc) "
   ]
  },
  {
   "cell_type": "markdown",
   "metadata": {},
   "source": [
    "# R outputs"
   ]
  },
  {
   "cell_type": "markdown",
   "metadata": {},
   "source": [
    "### Stepwise p-value < 0.15"
   ]
  },
  {
   "cell_type": "raw",
   "metadata": {},
   "source": [
    "# Call:\n",
    "glm(formula = target ~ ps_ind_01 + ps_ind_03 + ps_ind_07_bin + \n",
    "    ps_ind_08_bin + ps_ind_15 + ps_ind_16_bin + ps_ind_17_bin + \n",
    "    ps_reg_01 + ps_reg_02 + ps_car_11 + ps_car_15 + ps_calc_01 + \n",
    "    ps_calc_02 + ps_calc_03 + ps_car_07_cat_null + ps_car_07_cat_1 + \n",
    "    ps_car_05_cat_1 + ps_car_03_cat_1 + ps_ind_04_cat_1 + ps_ind_02_cat_2_3_4 + \n",
    "    ps_ind_05_cat_0 + ps_ind_05_cat_1_3_4_5_6 + ps_car_01_cat_6_7 + \n",
    "    ps_car_01_cat_3_4_5_10 + ps_car_01_cat_0_1_2_8_11 + ps_car_01_cat_9 + \n",
    "    ps_car_04_cat_1_2 + ps_car_04_cat_3_8 + ps_car_09_cat_0_2_3 + \n",
    "    ps_car_11_cat_A + ps_car_11_cat_B + ps_car_11_cat_C + ps_reg_03_no_out + \n",
    "    ps_car_12_no_out + ps_car_13_no_out + ps_car_14_no_out, family = binomial(), \n",
    "    data = dados.treino)\n",
    "\n",
    "Deviance Residuals: \n",
    "    Min       1Q   Median       3Q      Max  \n",
    "-1.1815  -0.2953  -0.2514  -0.2170   2.9983  \n",
    "\n",
    "Coefficients:\n",
    "                          Estimate Std. Error z value Pr(>|z|)    \n",
    "(Intercept)              -1.081755   0.292204  -3.702 0.000214 ***\n",
    "ps_ind_01                 0.010652   0.004486   2.374 0.017582 *  \n",
    "ps_ind_03                 0.025623   0.003393   7.553 4.26e-14 ***\n",
    "ps_ind_07_bin             0.249286   0.022698  10.983  < 2e-16 ***\n",
    "ps_ind_08_bin             0.220156   0.024530   8.975  < 2e-16 ***\n",
    "ps_ind_15                -0.025946   0.002561 -10.131  < 2e-16 ***\n",
    "ps_ind_16_bin            -0.069441   0.022126  -3.138 0.001699 ** \n",
    "ps_ind_17_bin             0.315114   0.027314  11.537  < 2e-16 ***\n",
    "ps_reg_01                 0.262074   0.036767   7.128 1.02e-12 ***\n",
    "ps_reg_02                 0.082174   0.031910   2.575 0.010018 *  \n",
    "ps_car_11                -0.036971   0.011523  -3.208 0.001335 ** \n",
    "ps_car_15                 0.054151   0.019831   2.731 0.006323 ** \n",
    "ps_calc_01                0.045173   0.028863   1.565 0.117563    \n",
    "ps_calc_02                0.049602   0.028886   1.717 0.085952 .  \n",
    "ps_calc_03                0.044385   0.028864   1.538 0.124122    \n",
    "ps_car_07_cat_null       -0.211038   0.062483  -3.378 0.000731 ***\n",
    "ps_car_07_cat_1          -0.257942   0.034193  -7.544 4.57e-14 ***\n",
    "ps_car_05_cat_1           0.028592   0.019737   1.449 0.147441    \n",
    "ps_car_03_cat_1           0.085796   0.025123   3.415 0.000638 ***\n",
    "ps_ind_04_cat_1           0.057101   0.018767   3.043 0.002345 ** \n",
    "ps_ind_02_cat_2_3_4       0.105418   0.019549   5.392 6.95e-08 ***\n",
    "ps_ind_05_cat_0          -0.828853   0.054857 -15.109  < 2e-16 ***\n",
    "ps_ind_05_cat_1_3_4_5_6  -0.382804   0.058594  -6.533 6.44e-11 ***\n",
    "ps_car_01_cat_6_7        -1.910229   0.262676  -7.272 3.54e-13 ***\n",
    "ps_car_01_cat_3_4_5_10   -1.767745   0.263059  -6.720 1.82e-11 ***\n",
    "ps_car_01_cat_0_1_2_8_11 -1.746519   0.262542  -6.652 2.88e-11 ***\n",
    "ps_car_01_cat_9          -1.610440   0.264764  -6.083 1.18e-09 ***\n",
    "ps_car_04_cat_1_2        -0.044771   0.030515  -1.467 0.142328    \n",
    "ps_car_04_cat_3_8        -0.066449   0.043096  -1.542 0.123101    \n",
    "ps_car_09_cat_0_2_3      -0.219453   0.031599  -6.945 3.79e-12 ***\n",
    "ps_car_11_cat_A          -0.132099   0.024204  -5.458 4.82e-08 ***\n",
    "ps_car_11_cat_B           0.038164   0.024803   1.539 0.123879    \n",
    "ps_car_11_cat_C           0.227170   0.033301   6.822 8.99e-12 ***\n",
    "ps_reg_03_no_out          0.093168   0.039632   2.351 0.018730 *  \n",
    "ps_car_12_no_out          0.455637   0.283531   1.607 0.108052    \n",
    "ps_car_13_no_out          0.479604   0.097276   4.930 8.21e-07 ***\n",
    "ps_car_14_no_out         -0.867275   0.299356  -2.897 0.003766 ** \n",
    "---\n",
    "Signif. codes:  0 '***' 0.001 '**' 0.01 '*' 0.05 '.' 0.1 ' ' 1\n",
    "\n",
    "(Dispersion parameter for binomial family taken to be 1)\n",
    "\n",
    "    Null deviance: 130989  on 416647  degrees of freedom\n",
    "Residual deviance: 127562  on 416611  degrees of freedom\n",
    "AIC: 127636\n",
    "\n",
    "Number of Fisher Scoring iterations: 6\n",
    "\n",
    "> # PROB\n",
    "> dados.teste$pred=predict(fit2, newdata = dados.teste, type = \"response\")\n",
    "> head(dados.teste$pred, 5)\n",
    "[1] 0.02491706 0.02392584 0.01538152 0.02200735 0.04979014\n",
    "\n",
    "> # CROSS VALIDATION\n",
    "> cv.glm(data=dados.teste, glmfit=fit2, K=10)$delta[1]\n",
    "[1] 0.03567494\n",
    "\n",
    "> # CURVA ROC\n",
    "> roc1 = roc(dados.teste$target, dados.teste$pred)\n",
    "> roc1\n",
    "Call:\n",
    "roc.default(response = dados.teste$target, predictor = dados.teste$pred)\n",
    "\n",
    "Data: dados.teste$pred in 172146 controls (dados.teste$target 0) < 6418 cases (dados.teste$target 1).\n",
    "Area under the curve: 0.6272"
   ]
  },
  {
   "cell_type": "markdown",
   "metadata": {},
   "source": [
    "### Stepwise p-value < 0.5"
   ]
  },
  {
   "cell_type": "raw",
   "metadata": {},
   "source": [
    "Call:\n",
    "glm(formula = target ~ ps_ind_01 + ps_ind_03 + ps_ind_06_bin + \n",
    "    ps_ind_07_bin + ps_ind_08_bin + ps_ind_12_bin + ps_ind_15 + \n",
    "    ps_ind_16_bin + ps_ind_17_bin + ps_ind_18_bin + ps_reg_01 + \n",
    "    ps_reg_02 + ps_car_08_cat + ps_car_11 + ps_car_15 + ps_calc_01 + \n",
    "    ps_calc_02 + ps_calc_03 + ps_calc_05 + ps_calc_06 + ps_calc_09 + \n",
    "    ps_calc_14 + ps_calc_17_bin + ps_calc_19_bin + ps_car_07_cat_null + \n",
    "    ps_car_07_cat_1 + ps_car_05_cat_1 + ps_car_03_cat_null + \n",
    "    ps_car_03_cat_1 + ps_ind_04_cat_1 + ps_ind_02_cat_null + \n",
    "    ps_ind_02_cat_2_3_4 + ps_ind_05_cat_0 + ps_ind_05_cat_1_3_4_5_6 + \n",
    "    ps_car_01_cat_6_7 + ps_car_01_cat_3_4_5_10 + ps_car_01_cat_0_1_2_8_11 + \n",
    "    ps_car_01_cat_9 + ps_car_04_cat_0_4 + ps_car_04_cat_1_2 + \n",
    "    ps_car_04_cat_3_8 + ps_car_04_cat_6_9 + ps_car_06_cat_0_1_3_4_6_7_11_14 + \n",
    "    ps_car_06_cat_10_12_15_16 + ps_car_09_cat_0_2_3 + ps_car_11_cat_A + \n",
    "    ps_car_11_cat_B + ps_car_11_cat_C + ps_reg_03_no_out + ps_car_12_no_out + \n",
    "    ps_car_13_no_out + ps_car_14_no_out, family = binomial(), \n",
    "    data = dados.treino)\n",
    "\n",
    "Deviance Residuals: \n",
    "    Min       1Q   Median       3Q      Max  \n",
    "-1.2247  -0.2953  -0.2516  -0.2169   3.0075  \n",
    "\n",
    "Coefficients:\n",
    "                                 Estimate Std. Error z value Pr(>|z|)    \n",
    "(Intercept)                     -1.431079   0.488518  -2.929 0.003396 ** \n",
    "ps_ind_01                        0.009319   0.004649   2.004 0.045025 *  \n",
    "ps_ind_03                        0.025323   0.003416   7.413 1.23e-13 ***\n",
    "ps_ind_06_bin                   -0.040529   0.027009  -1.501 0.133462    \n",
    "ps_ind_07_bin                    0.224632   0.027693   8.112 5.00e-16 ***\n",
    "ps_ind_08_bin                    0.195854   0.029178   6.712 1.92e-11 ***\n",
    "ps_ind_12_bin                    0.065870   0.072512   0.908 0.363672    \n",
    "ps_ind_15                       -0.026286   0.002715  -9.684  < 2e-16 ***\n",
    "ps_ind_16_bin                   -0.087989   0.035126  -2.505 0.012246 *  \n",
    "ps_ind_17_bin                    0.293613   0.039425   7.447 9.52e-14 ***\n",
    "ps_ind_18_bin                   -0.030606   0.041387  -0.740 0.459597    \n",
    "ps_reg_01                        0.259545   0.036896   7.034 2.00e-12 ***\n",
    "ps_reg_02                        0.080285   0.031933   2.514 0.011931 *  \n",
    "ps_car_08_cat                    0.017607   0.025699   0.685 0.493268    \n",
    "ps_car_11                       -0.038450   0.011886  -3.235 0.001216 ** \n",
    "ps_car_15                        0.056902   0.020699   2.749 0.005978 ** \n",
    "ps_calc_01                       0.045236   0.028865   1.567 0.117086    \n",
    "ps_calc_02                       0.049562   0.028888   1.716 0.086222 .  \n",
    "ps_calc_03                       0.044655   0.028867   1.547 0.121883    \n",
    "ps_calc_05                       0.007701   0.007288   1.057 0.290653    \n",
    "ps_calc_06                       0.004329   0.006224   0.696 0.486710    \n",
    "ps_calc_09                       0.005274   0.006639   0.794 0.427008    \n",
    "ps_calc_14                       0.002978   0.003009   0.990 0.322395    \n",
    "ps_calc_17_bin                  -0.012488   0.016660  -0.750 0.453504    \n",
    "ps_calc_19_bin                  -0.013289   0.017419  -0.763 0.445515    \n",
    "ps_car_07_cat_null              -0.226591   0.064116  -3.534 0.000409 ***\n",
    "ps_car_07_cat_1                 -0.260434   0.034240  -7.606 2.82e-14 ***\n",
    "ps_car_05_cat_1                  0.022238   0.020256   1.098 0.272274    \n",
    "ps_car_03_cat_null              -0.030664   0.036493  -0.840 0.400760    \n",
    "ps_car_03_cat_1                  0.078837   0.030361   2.597 0.009413 ** \n",
    "ps_ind_04_cat_1                  0.053945   0.018922   2.851 0.004360 ** \n",
    "ps_ind_02_cat_null               0.516306   0.373274   1.383 0.166609    \n",
    "ps_ind_02_cat_2_3_4              0.102762   0.019736   5.207 1.92e-07 ***\n",
    "ps_ind_05_cat_0                 -0.830081   0.055198 -15.038  < 2e-16 ***\n",
    "ps_ind_05_cat_1_3_4_5_6         -0.383253   0.058933  -6.503 7.86e-11 ***\n",
    "ps_car_01_cat_6_7               -1.452032   0.421991  -3.441 0.000580 ***\n",
    "ps_car_01_cat_3_4_5_10          -1.310738   0.421966  -3.106 0.001895 ** \n",
    "ps_car_01_cat_0_1_2_8_11        -1.292208   0.421927  -3.063 0.002194 ** \n",
    "ps_car_01_cat_9                 -1.159211   0.423284  -2.739 0.006170 ** \n",
    "ps_car_04_cat_0_4               -0.124161   0.179974  -0.690 0.490266    \n",
    "ps_car_04_cat_1_2               -0.179957   0.178223  -1.010 0.312624    \n",
    "ps_car_04_cat_3_8               -0.216411   0.181082  -1.195 0.232049    \n",
    "ps_car_04_cat_6_9               -0.153205   0.180106  -0.851 0.394969    \n",
    "ps_car_06_cat_0_1_3_4_6_7_11_14 -0.044146   0.037374  -1.181 0.237531    \n",
    "ps_car_06_cat_10_12_15_16       -0.033993   0.040686  -0.835 0.403442    \n",
    "ps_car_09_cat_0_2_3             -0.215282   0.031790  -6.772 1.27e-11 ***\n",
    "ps_car_11_cat_A                 -0.136498   0.024473  -5.577 2.44e-08 ***\n",
    "ps_car_11_cat_B                  0.031638   0.026063   1.214 0.224798    \n",
    "ps_car_11_cat_C                  0.222099   0.034744   6.392 1.63e-10 ***\n",
    "ps_reg_03_no_out                 0.087847   0.039734   2.211 0.027046 *  \n",
    "ps_car_12_no_out                 0.364110   0.300701   1.211 0.225946    \n",
    "ps_car_13_no_out                 0.478075   0.109932   4.349 1.37e-05 ***\n",
    "ps_car_14_no_out                -0.617175   0.403065  -1.531 0.125719    \n",
    "---\n",
    "Signif. codes:  0 '***' 0.001 '**' 0.01 '*' 0.05 '.' 0.1 ' ' 1\n",
    "\n",
    "(Dispersion parameter for binomial family taken to be 1)\n",
    "\n",
    "    Null deviance: 130989  on 416647  degrees of freedom\n",
    "Residual deviance: 127549  on 416595  degrees of freedom\n",
    "AIC: 127655\n",
    "\n",
    "Number of Fisher Scoring iterations: 6\n",
    "\n",
    "> dados.teste$predfit3=predict(fit3, newdata = dados.teste, type = \"response\")\n",
    "> head(dados.teste$predfit3, 5)\n",
    "[1] 0.02388811 0.02355559 0.01539039 0.02256981 0.05046523\n",
    "> roc2 = roc(dados.teste$target, dados.teste$predfit3)\n",
    "> plot(roc2, lwd=4, col=\"red\")\n",
    "> roc2\n",
    "\n",
    "Call:\n",
    "roc.default(response = dados.teste$target, predictor = dados.teste$predfit3)\n",
    "\n",
    "Data: dados.teste$predfit3 in 172146 controls (dados.teste$target 0) < 6418 cases (dados.teste$target 1).\n",
    "Area under the curve: 0.627"
   ]
  },
  {
   "cell_type": "markdown",
   "metadata": {},
   "source": [
    "# Comentários"
   ]
  },
  {
   "cell_type": "markdown",
   "metadata": {},
   "source": [
    "usar stepwise / backward selection \n",
    "- definir ponto de corte pelo pelo valor p acima de 50%\n",
    "- depois limpar o modelo na mao\n",
    "- pedir saida do VIF - variance inflation factor"
   ]
  }
 ],
 "metadata": {
  "kernelspec": {
   "display_name": "Python [conda root]",
   "language": "python",
   "name": "conda-root-py"
  },
  "language_info": {
   "codemirror_mode": {
    "name": "ipython",
    "version": 3
   },
   "file_extension": ".py",
   "mimetype": "text/x-python",
   "name": "python",
   "nbconvert_exporter": "python",
   "pygments_lexer": "ipython3",
   "version": "3.6.8"
  }
 },
 "nbformat": 4,
 "nbformat_minor": 2
}
