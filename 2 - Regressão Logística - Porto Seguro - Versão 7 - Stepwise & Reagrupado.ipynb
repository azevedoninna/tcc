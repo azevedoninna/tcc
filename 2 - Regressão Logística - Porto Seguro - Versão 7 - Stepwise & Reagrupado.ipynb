{
 "cells": [
  {
   "cell_type": "markdown",
   "metadata": {},
   "source": [
    "# Biblioteca"
   ]
  },
  {
   "cell_type": "code",
   "execution_count": 65,
   "metadata": {},
   "outputs": [],
   "source": [
    "import pandas as pd\n",
    "import sklearn\n",
    "import numpy as np\n",
    "import statsmodels \n",
    "import matplotlib.pyplot as plt\n",
    "import seaborn as sns\n",
    "%matplotlib inline\n",
    "\n",
    "import warnings\n",
    "warnings.filterwarnings(\"ignore\")"
   ]
  },
  {
   "cell_type": "code",
   "execution_count": 66,
   "metadata": {},
   "outputs": [],
   "source": [
    "sns.set(rc={'figure.figsize':(12,7)})\n",
    "sns.set_style(\"whitegrid\")\n",
    "sns.set_palette(\"husl\")\n",
    "\n",
    "pd.set_option('display.max_rows', 200)"
   ]
  },
  {
   "cell_type": "markdown",
   "metadata": {},
   "source": [
    "# Dados"
   ]
  },
  {
   "cell_type": "code",
   "execution_count": 109,
   "metadata": {},
   "outputs": [],
   "source": [
    "dados_treino = pd.read_csv(\"porto_seguro_stepwise_reagrupado_treino.csv\")\n",
    "dados_teste = pd.read_csv(\"porto_seguro_stepwise_reagrupado_teste.csv\")"
   ]
  },
  {
   "cell_type": "code",
   "execution_count": 110,
   "metadata": {},
   "outputs": [],
   "source": [
    "X_treino = dados_treino.drop([\"id\", \"target\", \"ps_car_05_cat_0_1\"], 1)\n",
    "y_treino = dados_treino.loc[:, [\"target\"]]\n",
    "\n",
    "X_teste = dados_teste.drop([\"id\", \"target\", \"ps_car_05_cat_0_1\"], 1)\n",
    "y_teste = dados_teste.loc[:, [\"target\"]]"
   ]
  },
  {
   "cell_type": "markdown",
   "metadata": {},
   "source": [
    "# Previsão"
   ]
  },
  {
   "cell_type": "code",
   "execution_count": 111,
   "metadata": {},
   "outputs": [
    {
     "name": "stdout",
     "output_type": "stream",
     "text": [
      "Optimization terminated successfully.\n",
      "         Current function value: 0.153099\n",
      "         Iterations 8\n"
     ]
    }
   ],
   "source": [
    "import statsmodels.formula.api as sm\n",
    "\n",
    "model = sm.Logit(y_treino, X_treino)\n",
    "result = model.fit()\n",
    "predictions = result.predict(X_teste)"
   ]
  },
  {
   "cell_type": "markdown",
   "metadata": {},
   "source": [
    "# Resultados"
   ]
  },
  {
   "cell_type": "markdown",
   "metadata": {},
   "source": [
    "A variável ps_car_05_cat_0_1 foi excluída, devido à falta de significância estatística (valor-p > 80%)"
   ]
  },
  {
   "cell_type": "code",
   "execution_count": 112,
   "metadata": {},
   "outputs": [
    {
     "name": "stdout",
     "output_type": "stream",
     "text": [
      "                           Logit Regression Results                           \n",
      "==============================================================================\n",
      "Dep. Variable:                 target   No. Observations:               416648\n",
      "Model:                          Logit   Df Residuals:                   416613\n",
      "Method:                           MLE   Df Model:                           34\n",
      "Date:                Sun, 12 May 2019   Pseudo R-squ.:                 0.02604\n",
      "Time:                        14:48:49   Log-Likelihood:                -63789.\n",
      "converged:                       True   LL-Null:                       -65494.\n",
      "                                        LLR p-value:                     0.000\n",
      "============================================================================================\n",
      "                               coef    std err          z      P>|z|      [0.025      0.975]\n",
      "--------------------------------------------------------------------------------------------\n",
      "ps_ind_01                    0.0123      0.004      2.769      0.006       0.004       0.021\n",
      "ps_ind_03                    0.0257      0.003      7.580      0.000       0.019       0.032\n",
      "ps_ind_07_bin                0.2472      0.022     10.992      0.000       0.203       0.291\n",
      "ps_ind_08_bin                0.2159      0.024      8.825      0.000       0.168       0.264\n",
      "ps_ind_15                   -0.0260      0.003    -10.167      0.000      -0.031      -0.021\n",
      "ps_ind_16_bin               -0.0711      0.022     -3.218      0.001      -0.114      -0.028\n",
      "ps_ind_17_bin                0.3096      0.027     11.350      0.000       0.256       0.363\n",
      "ps_reg_01                    0.2552      0.037      6.954      0.000       0.183       0.327\n",
      "ps_reg_02                    0.0920      0.032      2.896      0.004       0.030       0.154\n",
      "ps_car_11                   -0.0343      0.011     -3.192      0.001      -0.055      -0.013\n",
      "ps_car_15                    0.0362      0.019      1.874      0.061      -0.002       0.074\n",
      "ps_calc_01                   0.0407      0.029      1.412      0.158      -0.016       0.097\n",
      "ps_calc_02                   0.0453      0.029      1.571      0.116      -0.011       0.102\n",
      "ps_calc_03                   0.0401      0.029      1.391      0.164      -0.016       0.097\n",
      "ps_car_01_cat_6_7           -2.5315      0.143    -17.721      0.000      -2.812      -2.252\n",
      "ps_car_01_cat_3_4_5_10      -2.3827      0.144    -16.594      0.000      -2.664      -2.101\n",
      "ps_car_01_cat_0_1_2_8_11    -2.3669      0.144    -16.483      0.000      -2.648      -2.085\n",
      "ps_car_01_cat_9             -2.2362      0.145    -15.434      0.000      -2.520      -1.952\n",
      "ps_car_07_cat_null          -0.2561      0.062     -4.143      0.000      -0.377      -0.135\n",
      "ps_car_07_cat_1             -0.2644      0.034     -7.827      0.000      -0.331      -0.198\n",
      "ps_car_11_cat_A             -0.1419      0.024     -5.893      0.000      -0.189      -0.095\n",
      "ps_car_11_cat_B              0.0269      0.024      1.117      0.264      -0.020       0.074\n",
      "ps_car_11_cat_C              0.2241      0.033      6.820      0.000       0.160       0.288\n",
      "ps_car_03_cat_1              0.0749      0.025      3.014      0.003       0.026       0.124\n",
      "ps_ind_04_cat_1              0.0572      0.019      3.059      0.002       0.021       0.094\n",
      "ps_ind_02_cat_1             -0.1058      0.020     -5.416      0.000      -0.144      -0.068\n",
      "ps_ind_05_cat_0             -0.8479      0.055    -15.525      0.000      -0.955      -0.741\n",
      "ps_ind_05_cat_1_3_4_5_6     -0.4029      0.058     -6.904      0.000      -0.517      -0.289\n",
      "ps_car_04_cat_0_1_2_4       -0.0699      0.043     -1.625      0.104      -0.154       0.014\n",
      "ps_car_04_cat_3_8           -0.0919      0.052     -1.760      0.078      -0.194       0.010\n",
      "ps_car_09_cat_0_2_3         -0.2210      0.032     -7.013      0.000      -0.283      -0.159\n",
      "ps_reg_03_no_out             0.0816      0.039      2.069      0.039       0.004       0.159\n",
      "ps_car_12_no_out             0.2664      0.276      0.966      0.334      -0.274       0.807\n",
      "ps_car_13_no_out             0.5258      0.099      5.322      0.000       0.332       0.719\n",
      "ps_car_14_no_out            -1.2715      0.289     -4.404      0.000      -1.837      -0.706\n",
      "============================================================================================\n"
     ]
    }
   ],
   "source": [
    "from scipy import stats\n",
    "stats.chisqprob = lambda chisq, df: stats.chi2.sf(chisq, df)\n",
    "print(result.summary())"
   ]
  },
  {
   "cell_type": "code",
   "execution_count": 115,
   "metadata": {},
   "outputs": [
    {
     "name": "stdout",
     "output_type": "stream",
     "text": [
      "AUC na base de teste: 0.6270\n"
     ]
    }
   ],
   "source": [
    "from sklearn.metrics import roc_auc_score\n",
    "\n",
    "acc = roc_auc_score(y_teste, result.predict(X_teste))\n",
    "print(\"AUC na base de teste: %.4f\" % acc) "
   ]
  },
  {
   "cell_type": "markdown",
   "metadata": {},
   "source": [
    "# Sklearn AUC e Cross Validation"
   ]
  },
  {
   "cell_type": "code",
   "execution_count": 121,
   "metadata": {},
   "outputs": [],
   "source": [
    "from sklearn.linear_model import LogisticRegression\n",
    "\n",
    "model = LogisticRegression(C=1e9).fit(X_treino, y_treino)\n",
    "predictions = model.predict(X_teste)\n",
    "predictions_proba = model.predict_proba(X_teste)[:, 1]"
   ]
  },
  {
   "cell_type": "code",
   "execution_count": 118,
   "metadata": {},
   "outputs": [
    {
     "name": "stdout",
     "output_type": "stream",
     "text": [
      "Cross Validation - Accuracy: 0.9633 (+/- 0.0000)\n"
     ]
    }
   ],
   "source": [
    "from sklearn.model_selection import cross_val_score\n",
    "\n",
    "scores = cross_val_score(LogisticRegression().fit(X_treino, y_treino), X_treino, y_treino, cv=10)\n",
    "print(\"Cross Validation - Accuracy: %0.4f (+/- %0.4f)\" % (scores.mean(), scores.std() * 2))"
   ]
  },
  {
   "cell_type": "code",
   "execution_count": 122,
   "metadata": {},
   "outputs": [
    {
     "name": "stdout",
     "output_type": "stream",
     "text": [
      "AUC na base de teste: 0.6273\n",
      "AUC na base de treino: 0.6306\n"
     ]
    }
   ],
   "source": [
    "from sklearn.metrics import roc_auc_score\n",
    "\n",
    "acc = roc_auc_score(y_teste, model.predict_proba(X_teste)[:, 1])\n",
    "print(\"AUC na base de teste: %.4f\" % acc) \n",
    "\n",
    "acc = roc_auc_score(y_treino, model.predict_proba(X_treino)[:, 1])\n",
    "print(\"AUC na base de treino: %.4f\" % acc) "
   ]
  },
  {
   "cell_type": "code",
   "execution_count": 136,
   "metadata": {},
   "outputs": [
    {
     "name": "stdout",
     "output_type": "stream",
     "text": [
      "[-1.14931386]\n"
     ]
    }
   ],
   "source": [
    "print(model.intercept_)"
   ]
  },
  {
   "cell_type": "code",
   "execution_count": 135,
   "metadata": {},
   "outputs": [
    {
     "data": {
      "text/html": [
       "<div>\n",
       "<style scoped>\n",
       "    .dataframe tbody tr th:only-of-type {\n",
       "        vertical-align: middle;\n",
       "    }\n",
       "\n",
       "    .dataframe tbody tr th {\n",
       "        vertical-align: top;\n",
       "    }\n",
       "\n",
       "    .dataframe thead th {\n",
       "        text-align: right;\n",
       "    }\n",
       "</style>\n",
       "<table border=\"1\" class=\"dataframe\">\n",
       "  <thead>\n",
       "    <tr style=\"text-align: right;\">\n",
       "      <th></th>\n",
       "      <th>feature</th>\n",
       "      <th>coef</th>\n",
       "    </tr>\n",
       "  </thead>\n",
       "  <tbody>\n",
       "    <tr>\n",
       "      <th>0</th>\n",
       "      <td>ps_ind_01</td>\n",
       "      <td>0.011822</td>\n",
       "    </tr>\n",
       "    <tr>\n",
       "      <th>1</th>\n",
       "      <td>ps_ind_03</td>\n",
       "      <td>0.025926</td>\n",
       "    </tr>\n",
       "    <tr>\n",
       "      <th>2</th>\n",
       "      <td>ps_ind_07_bin</td>\n",
       "      <td>0.244406</td>\n",
       "    </tr>\n",
       "    <tr>\n",
       "      <th>3</th>\n",
       "      <td>ps_ind_08_bin</td>\n",
       "      <td>0.217218</td>\n",
       "    </tr>\n",
       "    <tr>\n",
       "      <th>4</th>\n",
       "      <td>ps_ind_15</td>\n",
       "      <td>-0.025734</td>\n",
       "    </tr>\n",
       "    <tr>\n",
       "      <th>5</th>\n",
       "      <td>ps_ind_16_bin</td>\n",
       "      <td>-0.070292</td>\n",
       "    </tr>\n",
       "    <tr>\n",
       "      <th>6</th>\n",
       "      <td>ps_ind_17_bin</td>\n",
       "      <td>0.314396</td>\n",
       "    </tr>\n",
       "    <tr>\n",
       "      <th>7</th>\n",
       "      <td>ps_reg_01</td>\n",
       "      <td>0.260752</td>\n",
       "    </tr>\n",
       "    <tr>\n",
       "      <th>8</th>\n",
       "      <td>ps_reg_02</td>\n",
       "      <td>0.082480</td>\n",
       "    </tr>\n",
       "    <tr>\n",
       "      <th>9</th>\n",
       "      <td>ps_car_11</td>\n",
       "      <td>-0.032008</td>\n",
       "    </tr>\n",
       "    <tr>\n",
       "      <th>10</th>\n",
       "      <td>ps_car_15</td>\n",
       "      <td>0.048877</td>\n",
       "    </tr>\n",
       "    <tr>\n",
       "      <th>11</th>\n",
       "      <td>ps_calc_01</td>\n",
       "      <td>0.044956</td>\n",
       "    </tr>\n",
       "    <tr>\n",
       "      <th>12</th>\n",
       "      <td>ps_calc_02</td>\n",
       "      <td>0.049882</td>\n",
       "    </tr>\n",
       "    <tr>\n",
       "      <th>13</th>\n",
       "      <td>ps_calc_03</td>\n",
       "      <td>0.044698</td>\n",
       "    </tr>\n",
       "    <tr>\n",
       "      <th>14</th>\n",
       "      <td>ps_car_01_cat_6_7</td>\n",
       "      <td>-1.687881</td>\n",
       "    </tr>\n",
       "    <tr>\n",
       "      <th>15</th>\n",
       "      <td>ps_car_01_cat_3_4_5_10</td>\n",
       "      <td>-1.539515</td>\n",
       "    </tr>\n",
       "    <tr>\n",
       "      <th>16</th>\n",
       "      <td>ps_car_01_cat_0_1_2_8_11</td>\n",
       "      <td>-1.525785</td>\n",
       "    </tr>\n",
       "    <tr>\n",
       "      <th>17</th>\n",
       "      <td>ps_car_01_cat_9</td>\n",
       "      <td>-1.387828</td>\n",
       "    </tr>\n",
       "    <tr>\n",
       "      <th>18</th>\n",
       "      <td>ps_car_07_cat_null</td>\n",
       "      <td>-0.207674</td>\n",
       "    </tr>\n",
       "    <tr>\n",
       "      <th>19</th>\n",
       "      <td>ps_car_07_cat_1</td>\n",
       "      <td>-0.252218</td>\n",
       "    </tr>\n",
       "    <tr>\n",
       "      <th>20</th>\n",
       "      <td>ps_car_11_cat_A</td>\n",
       "      <td>-0.130266</td>\n",
       "    </tr>\n",
       "    <tr>\n",
       "      <th>21</th>\n",
       "      <td>ps_car_11_cat_B</td>\n",
       "      <td>0.029405</td>\n",
       "    </tr>\n",
       "    <tr>\n",
       "      <th>22</th>\n",
       "      <td>ps_car_11_cat_C</td>\n",
       "      <td>0.219800</td>\n",
       "    </tr>\n",
       "    <tr>\n",
       "      <th>23</th>\n",
       "      <td>ps_car_03_cat_1</td>\n",
       "      <td>0.088029</td>\n",
       "    </tr>\n",
       "    <tr>\n",
       "      <th>24</th>\n",
       "      <td>ps_ind_04_cat_1</td>\n",
       "      <td>0.059738</td>\n",
       "    </tr>\n",
       "    <tr>\n",
       "      <th>25</th>\n",
       "      <td>ps_ind_02_cat_1</td>\n",
       "      <td>-0.106869</td>\n",
       "    </tr>\n",
       "    <tr>\n",
       "      <th>26</th>\n",
       "      <td>ps_ind_05_cat_0</td>\n",
       "      <td>-0.834330</td>\n",
       "    </tr>\n",
       "    <tr>\n",
       "      <th>27</th>\n",
       "      <td>ps_ind_05_cat_1_3_4_5_6</td>\n",
       "      <td>-0.388939</td>\n",
       "    </tr>\n",
       "    <tr>\n",
       "      <th>28</th>\n",
       "      <td>ps_car_04_cat_0_1_2_4</td>\n",
       "      <td>-0.022216</td>\n",
       "    </tr>\n",
       "    <tr>\n",
       "      <th>29</th>\n",
       "      <td>ps_car_04_cat_3_8</td>\n",
       "      <td>-0.071575</td>\n",
       "    </tr>\n",
       "    <tr>\n",
       "      <th>30</th>\n",
       "      <td>ps_car_09_cat_0_2_3</td>\n",
       "      <td>-0.217009</td>\n",
       "    </tr>\n",
       "    <tr>\n",
       "      <th>31</th>\n",
       "      <td>ps_reg_03_no_out</td>\n",
       "      <td>0.094376</td>\n",
       "    </tr>\n",
       "    <tr>\n",
       "      <th>32</th>\n",
       "      <td>ps_car_12_no_out</td>\n",
       "      <td>0.455705</td>\n",
       "    </tr>\n",
       "    <tr>\n",
       "      <th>33</th>\n",
       "      <td>ps_car_13_no_out</td>\n",
       "      <td>0.489965</td>\n",
       "    </tr>\n",
       "    <tr>\n",
       "      <th>34</th>\n",
       "      <td>ps_car_14_no_out</td>\n",
       "      <td>-0.953327</td>\n",
       "    </tr>\n",
       "  </tbody>\n",
       "</table>\n",
       "</div>"
      ],
      "text/plain": [
       "                     feature      coef\n",
       "0                  ps_ind_01  0.011822\n",
       "1                  ps_ind_03  0.025926\n",
       "2              ps_ind_07_bin  0.244406\n",
       "3              ps_ind_08_bin  0.217218\n",
       "4                  ps_ind_15 -0.025734\n",
       "5              ps_ind_16_bin -0.070292\n",
       "6              ps_ind_17_bin  0.314396\n",
       "7                  ps_reg_01  0.260752\n",
       "8                  ps_reg_02  0.082480\n",
       "9                  ps_car_11 -0.032008\n",
       "10                 ps_car_15  0.048877\n",
       "11                ps_calc_01  0.044956\n",
       "12                ps_calc_02  0.049882\n",
       "13                ps_calc_03  0.044698\n",
       "14         ps_car_01_cat_6_7 -1.687881\n",
       "15    ps_car_01_cat_3_4_5_10 -1.539515\n",
       "16  ps_car_01_cat_0_1_2_8_11 -1.525785\n",
       "17           ps_car_01_cat_9 -1.387828\n",
       "18        ps_car_07_cat_null -0.207674\n",
       "19           ps_car_07_cat_1 -0.252218\n",
       "20           ps_car_11_cat_A -0.130266\n",
       "21           ps_car_11_cat_B  0.029405\n",
       "22           ps_car_11_cat_C  0.219800\n",
       "23           ps_car_03_cat_1  0.088029\n",
       "24           ps_ind_04_cat_1  0.059738\n",
       "25           ps_ind_02_cat_1 -0.106869\n",
       "26           ps_ind_05_cat_0 -0.834330\n",
       "27   ps_ind_05_cat_1_3_4_5_6 -0.388939\n",
       "28     ps_car_04_cat_0_1_2_4 -0.022216\n",
       "29         ps_car_04_cat_3_8 -0.071575\n",
       "30       ps_car_09_cat_0_2_3 -0.217009\n",
       "31          ps_reg_03_no_out  0.094376\n",
       "32          ps_car_12_no_out  0.455705\n",
       "33          ps_car_13_no_out  0.489965\n",
       "34          ps_car_14_no_out -0.953327"
      ]
     },
     "execution_count": 135,
     "metadata": {},
     "output_type": "execute_result"
    }
   ],
   "source": [
    "coef = pd.DataFrame(X_treino.columns).reset_index().merge(pd.DataFrame(model.coef_).T.reset_index(), on=\"index\")\n",
    "coef = coef.rename(columns={\"0_x\":\"feature\", \"0_y\":\"coef\"}).drop([\"index\"], 1)\n",
    "coef"
   ]
  },
  {
   "cell_type": "raw",
   "metadata": {},
   "source": [
    "ps_ind_01+ps_ind_03+ps_ind_07_bin+ps_ind_08_bin+ps_ind_15+ps_ind_16_bin+ps_ind_17_bin+ps_reg_01+ps_reg_02ps_car_11+\n",
    "ps_car_15+ps_calc_01+ps_calc_02+ps_calc_03+ps_car_01_cat_6_7+ps_car_01_cat_3_4_5_10+ps_car_01_cat_0_1_2_8_11+\n",
    "ps_car_01_cat_9+ps_car_07_cat_null+ps_car_07_cat_1+ps_car_11_cat_A+ps_car_11_cat_B+ps_car_11_cat_C+ps_car_03_cat_1+\n",
    "ps_ind_04_cat_1+ps_ind_02_cat_1+ps_ind_05_cat_0+ps_ind_05_cat_1_3_4_5_6+ps_car_04_cat_0_1_2_4+\n",
    "ps_car_04_cat_3_8+ps_car_09_cat_0_2_3+ps_reg_03_no_out+ps_car_12_no_out+ps_car_13_no_out+ps_car_14_no_out"
   ]
  },
  {
   "cell_type": "code",
   "execution_count": null,
   "metadata": {},
   "outputs": [],
   "source": []
  }
 ],
 "metadata": {
  "kernelspec": {
   "display_name": "Python [conda root]",
   "language": "python",
   "name": "conda-root-py"
  },
  "language_info": {
   "codemirror_mode": {
    "name": "ipython",
    "version": 3
   },
   "file_extension": ".py",
   "mimetype": "text/x-python",
   "name": "python",
   "nbconvert_exporter": "python",
   "pygments_lexer": "ipython3",
   "version": "3.6.8"
  }
 },
 "nbformat": 4,
 "nbformat_minor": 2
}
